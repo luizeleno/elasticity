{
 "cells": [
  {
   "cell_type": "markdown",
   "metadata": {},
   "source": [
    "# Importing the package\n",
    "\n",
    "To use `elasticity` in a project, first you need to import the package and its desired features:"
   ]
  },
  {
   "cell_type": "code",
   "execution_count": 4,
   "metadata": {},
   "outputs": [
    {
     "name": "stderr",
     "output_type": "stream",
     "text": [
      "/opt/conda/envs/elasticityproject/lib/python3.9/site-packages/traits/etsconfig/etsconfig.py:425: UserWarning: Environment variable \"HOME\" not set, setting home directory to /tmp\n",
      "  warn(\n"
     ]
    }
   ],
   "source": [
    "from elasticityproject.elasticityproject import ElasticityTheory, DirectionalProperties,VRH\n",
    "from elasticityproject.plots3d import mayaviplot, YoungModulus3DPlot, LinearCompressibility3DPlot"
   ]
  },
  {
   "cell_type": "markdown",
   "metadata": {},
   "source": [
    "\n",
    "# Using the package\n",
    "\n",
    "To use the package, you have to, first, get the specific crystal class that the material you want to simulate have, then, you have to pass the independent elastic constants as inputs of the class\n",
    "\n",
    "The following crystal classes are implemented in the code:\n",
    "1. isotropic: 2 independent constants\n",
    "2. cubic: 3 independent constants\n",
    "3. hexagonal: 5 independent constants\n",
    "4. trigonal_1: 6 independent constants\n",
    "5. trigonal_2: 7 independent constants\n",
    "6. tetragonal_1: 6 independent constants\n",
    "7. tetragonal_2: 7 independent constants\n",
    "8. orthorhombic: 9 independent constants\n",
    "9. monoclinic_1: 13 independent constants\n",
    "10. monoclinic_2: 13 independent constants\n",
    "11. triclinic: 21 independent constants"
   ]
  },
  {
   "cell_type": "markdown",
   "metadata": {},
   "source": [
    "\n",
    "# Using the ElasticityTheory class\n",
    "\n",
    "To use this class, simply pass the `crystal_class` input and the individual `stiffness_constants`. Its important to note that you should ***pass each stiffness constant as a single argument, arrays are not valid***\n",
    "\n",
    "From this class you can get the following properties:\n",
    "1. C: (6x6) numpy array, stiffness matrix based on the given constants and material crystal class\n",
    "2. S: (6x6) numpy array | compliance matrix based on the given constants and material crystal class\n",
    "3. St: (3x3x3x3) numpy array | compliance tensor based on the given constants and material crystal class"
   ]
  },
  {
   "cell_type": "code",
   "execution_count": 6,
   "metadata": {},
   "outputs": [
    {
     "data": {
      "text/plain": [
       "array([[246.73 , 126.66 , 104.6  ,   0.   ,   0.   ,   0.   ],\n",
       "       [126.66 , 246.73 , 104.6  ,   0.   ,   0.   ,   0.   ],\n",
       "       [104.6  , 104.6  , 241.26 ,   0.   ,   0.   ,   0.   ],\n",
       "       [  0.   ,   0.   ,   0.   ,  58.48 ,   0.   ,   0.   ],\n",
       "       [  0.   ,   0.   ,   0.   ,   0.   ,  58.48 ,   0.   ],\n",
       "       [  0.   ,   0.   ,   0.   ,   0.   ,   0.   ,  60.035]])"
      ]
     },
     "execution_count": 6,
     "metadata": {},
     "output_type": "execute_result"
    }
   ],
   "source": [
    "ElasProp = ElasticityTheory('hexagonal', 246.73, 126.66, 104.6,241.26, 58.48 )\n",
    "ElasProp.C"
   ]
  },
  {
   "cell_type": "markdown",
   "metadata": {},
   "source": [
    "\n",
    "# Using the DirectionalProperties class\n",
    "\n",
    "To initiate an object of this class, simply pass the `crystal_class` input and the individual `stiffness_constants`. Its important to note that you should ***pass each stiffness constant as a single argument, arrays are not valid***. Another important information is that this class should be mostly used by the plots3d module since it is its data foundation. However, if you want to use it without the plotting module, you need to initiate a numpy array with a shape (NxN) for the *l* direction and (NxNxN) for the *n* direction."
   ]
  },
  {
   "cell_type": "code",
   "execution_count": 7,
   "metadata": {},
   "outputs": [
    {
     "data": {
      "text/plain": [
       "array([[[58.48      , 58.48      , 58.48      , ..., 58.48      ,\n",
       "         58.48      , 58.48      ],\n",
       "        [58.18121611, 58.18121611, 58.18121611, ..., 58.18121611,\n",
       "         58.18121611, 58.18121611],\n",
       "        [57.31835088, 57.31835088, 57.31835088, ..., 57.31835088,\n",
       "         57.31835088, 57.31835088],\n",
       "        ...,\n",
       "        [57.31835088, 57.31835088, 57.31835088, ..., 57.31835088,\n",
       "         57.31835088, 57.31835088],\n",
       "        [58.18121611, 58.18121611, 58.18121611, ..., 58.18121611,\n",
       "         58.18121611, 58.18121611],\n",
       "        [58.48      , 58.48      , 58.48      , ..., 58.48      ,\n",
       "         58.48      , 58.48      ]],\n",
       "\n",
       "       [[58.5389289 , 58.5389289 , 58.5389289 , ..., 58.5389289 ,\n",
       "         58.5389289 , 58.5389289 ],\n",
       "        [58.23930923, 58.23930923, 58.23930923, ..., 58.23930923,\n",
       "         58.23930923, 58.23930923],\n",
       "        [57.37405267, 57.37405267, 57.37405267, ..., 57.37405267,\n",
       "         57.37405267, 57.37405267],\n",
       "        ...,\n",
       "        [57.37405267, 57.37405267, 57.37405267, ..., 57.37405267,\n",
       "         57.37405267, 57.37405267],\n",
       "        [58.23930923, 58.23930923, 58.23930923, ..., 58.23930923,\n",
       "         58.23930923, 58.23930923],\n",
       "        [58.5389289 , 58.5389289 , 58.5389289 , ..., 58.5389289 ,\n",
       "         58.5389289 , 58.5389289 ]],\n",
       "\n",
       "       [[58.71619137, 58.71619137, 58.71619137, ..., 58.71619137,\n",
       "         58.71619137, 58.71619137],\n",
       "        [58.41405118, 58.41405118, 58.41405118, ..., 58.41405118,\n",
       "         58.41405118, 58.41405118],\n",
       "        [57.54158371, 57.54158371, 57.54158371, ..., 57.54158371,\n",
       "         57.54158371, 57.54158371],\n",
       "        ...,\n",
       "        [57.54158371, 57.54158371, 57.54158371, ..., 57.54158371,\n",
       "         57.54158371, 57.54158371],\n",
       "        [58.41405118, 58.41405118, 58.41405118, ..., 58.41405118,\n",
       "         58.41405118, 58.41405118],\n",
       "        [58.71619137, 58.71619137, 58.71619137, ..., 58.71619137,\n",
       "         58.71619137, 58.71619137]],\n",
       "\n",
       "       ...,\n",
       "\n",
       "       [[58.71619137, 58.71619137, 58.71619137, ..., 58.71619137,\n",
       "         58.71619137, 58.71619137],\n",
       "        [58.41405118, 58.41405118, 58.41405118, ..., 58.41405118,\n",
       "         58.41405118, 58.41405118],\n",
       "        [57.54158371, 57.54158371, 57.54158371, ..., 57.54158371,\n",
       "         57.54158371, 57.54158371],\n",
       "        ...,\n",
       "        [57.54158371, 57.54158371, 57.54158371, ..., 57.54158371,\n",
       "         57.54158371, 57.54158371],\n",
       "        [58.41405118, 58.41405118, 58.41405118, ..., 58.41405118,\n",
       "         58.41405118, 58.41405118],\n",
       "        [58.71619137, 58.71619137, 58.71619137, ..., 58.71619137,\n",
       "         58.71619137, 58.71619137]],\n",
       "\n",
       "       [[58.5389289 , 58.5389289 , 58.5389289 , ..., 58.5389289 ,\n",
       "         58.5389289 , 58.5389289 ],\n",
       "        [58.23930923, 58.23930923, 58.23930923, ..., 58.23930923,\n",
       "         58.23930923, 58.23930923],\n",
       "        [57.37405267, 57.37405267, 57.37405267, ..., 57.37405267,\n",
       "         57.37405267, 57.37405267],\n",
       "        ...,\n",
       "        [57.37405267, 57.37405267, 57.37405267, ..., 57.37405267,\n",
       "         57.37405267, 57.37405267],\n",
       "        [58.23930923, 58.23930923, 58.23930923, ..., 58.23930923,\n",
       "         58.23930923, 58.23930923],\n",
       "        [58.5389289 , 58.5389289 , 58.5389289 , ..., 58.5389289 ,\n",
       "         58.5389289 , 58.5389289 ]],\n",
       "\n",
       "       [[58.48      , 58.48      , 58.48      , ..., 58.48      ,\n",
       "         58.48      , 58.48      ],\n",
       "        [58.18121611, 58.18121611, 58.18121611, ..., 58.18121611,\n",
       "         58.18121611, 58.18121611],\n",
       "        [57.31835088, 57.31835088, 57.31835088, ..., 57.31835088,\n",
       "         57.31835088, 57.31835088],\n",
       "        ...,\n",
       "        [57.31835088, 57.31835088, 57.31835088, ..., 57.31835088,\n",
       "         57.31835088, 57.31835088],\n",
       "        [58.18121611, 58.18121611, 58.18121611, ..., 58.18121611,\n",
       "         58.18121611, 58.18121611],\n",
       "        [58.48      , 58.48      , 58.48      , ..., 58.48      ,\n",
       "         58.48      , 58.48      ]]])"
      ]
     },
     "execution_count": 7,
     "metadata": {},
     "output_type": "execute_result"
    }
   ],
   "source": [
    "import numpy as np\n",
    "#Initiate the class object\n",
    "DirProp = DirectionalProperties('hexagonal', 246.73, 126.66, 104.6,241.26, 58.48 )\n",
    "#Create the l direction array input\n",
    "theta, phi = np.mgrid[0:np.pi:100, 0:2*np.pi:100]\n",
    "ldir = np.array([np.sin(theta) * np.cos(phi), np.sin(theta) * np.sin(phi), np.cos(theta)])\n",
    "#Calculate the property\n",
    "DirProp.LinearCompressibility(ldir)\n",
    "#Create the n direction array input\n",
    "n_dir_theta, n_dir_phi, n_dir_psi = np.mgrid[0:np.pi:int(100) * 1j, 0:2*np.pi:int(100) * 1j, 0:2*np.pi:int(100) * 1j]\n",
    "ndir = np.array([\n",
    "                    np.sin(n_dir_phi) * np.sin(0)- np.cos(n_dir_theta)*np.cos(n_dir_phi)*np.cos(0),\n",
    "                    -np.cos(n_dir_phi)*np.sin(0) - np.cos(n_dir_phi)*np.sin(n_dir_phi)*np.cos(0),\n",
    "                    np.sin(n_dir_phi)*np.cos(0)\n",
    "                ])\n",
    "DirProp.ShearModulus(ldir,ndir)"
   ]
  },
  {
   "cell_type": "markdown",
   "metadata": {},
   "source": [
    "\n",
    "# Using the VRH class\n",
    "\n",
    "To use this class, simply pass the `crystal_class` input and the individual `stiffness_constants`. Its important to note that you should ***pass each stiffness constant as a single argument, arrays are not valid***\n",
    "\n",
    "From this class you can get the following properties:\n",
    "1. BR: Reuss approximation of linear compressibility\n",
    "2. GR: Reuss approximation of shear modulus\n",
    "3. BV: Voigt approximation of linear compressibility\n",
    "4. GV: Voigt approximation of shear modulus\n",
    "5. BH: Hill approximation of linear compressibility\n",
    "6. GH: Hill Reuss approximation of shear modulus\n",
    "7. BulkModulus: VRH approximation of Bulk Modulus using data from the three approximations\n",
    "8. YoungModulus: VRH approximation of Young Modulus using data from the three approximations\n",
    "9. PoissonRatio: VRH approximation of Poisson Ratio using data from the three approximations"
   ]
  },
  {
   "cell_type": "code",
   "execution_count": null,
   "metadata": {},
   "outputs": [],
   "source": [
    "VRHProp = VRH('hexagonal', 246.73, 126.66, 104.6,241.26, 58.48 )\n",
    "#Use Reuss approximations\n",
    "VRHProp.Reuss()\n",
    "#Use Voigt approximations\n",
    "VRHProp.Voigt()\n",
    "#Use Hill approximations\n",
    "VRHProp.Hill()\n",
    "#Use VRH approximations\n",
    "VRHProp.VRH()"
   ]
  },
  {
   "cell_type": "markdown",
   "metadata": {},
   "source": [
    "# Using plots3d module\n",
    "\n",
    "This module generates the surface plot based on the data generated by the DirectionalProperties class. To use the 3d plot module its necessary to initiate a instance of directional property class to generate the data to be plotted.\n",
    "To this module there are 2 required arguments\n",
    "1) property: object, a instance of the object created by the DirectionalProperties class\n",
    "2) smoothness: int, degree of smoothness of the generated surface\n",
    "\n",
    "There is also optional arguments to modify the action of the function:\n",
    "1) auto_extent: bool, flag to determine the axes extenxt will be generated automatically or via input\n",
    "2) axes_extent: int, extent of the axes, auto extent will override this parameter, default value is 4\n",
    "3) labels: array of str, labels of each axis, [0] element is x axis, [1] element is y axis, [2] element is z axis, default value is ['x (GPa)', 'y (GPa)', 'z (GPa)']\n",
    "4) offscreen: bool, flag to determine whether the graphics will be renderized in a GUI window or saved in a file\n",
    "5) filename: str, name of the generated file if offscren is true, default value is PlottedImage.png"
   ]
  },
  {
   "cell_type": "code",
   "execution_count": 8,
   "metadata": {},
   "outputs": [
    {
     "ename": "ImportError",
     "evalue": "Could not import backend for traitsui.  Make sure you\n        have a suitable UI toolkit like PyQt/PySide or wxPython\n        installed.",
     "output_type": "error",
     "traceback": [
      "\u001b[0;31m---------------------------------------------------------------------------\u001b[0m",
      "\u001b[0;31mImportError\u001b[0m                               Traceback (most recent call last)",
      "Cell \u001b[0;32mIn[8], line 2\u001b[0m\n\u001b[1;32m      1\u001b[0m DirProp \u001b[38;5;241m=\u001b[39m DirectionalProperties(\u001b[38;5;124m'\u001b[39m\u001b[38;5;124morthorhombic\u001b[39m\u001b[38;5;124m'\u001b[39m, \u001b[38;5;241m26.47\u001b[39m, \u001b[38;5;241m29.77\u001b[39m, \u001b[38;5;241m21.71\u001b[39m, \u001b[38;5;241m74.54\u001b[39m, \u001b[38;5;241m29.76\u001b[39m, \u001b[38;5;241m70.52\u001b[39m, \u001b[38;5;241m23.63\u001b[39m, \u001b[38;5;241m21.40\u001b[39m, \u001b[38;5;241m30.71\u001b[39m)\n\u001b[0;32m----> 2\u001b[0m \u001b[43mYoungModulus3DPlot\u001b[49m\u001b[43m(\u001b[49m\u001b[43mDirProp\u001b[49m\u001b[43m,\u001b[49m\u001b[43m \u001b[49m\u001b[43msmoothness\u001b[49m\u001b[38;5;241;43m=\u001b[39;49m\u001b[38;5;241;43m50\u001b[39;49m\u001b[43m)\u001b[49m\n",
      "File \u001b[0;32m/workspaces/TCC/TCC_Docs_Container/elasticityproject/src/elasticityproject/plots3d.py:78\u001b[0m, in \u001b[0;36mYoungModulus3DPlot\u001b[0;34m(material, *args, **kwargs)\u001b[0m\n\u001b[1;32m     74\u001b[0m \u001b[38;5;28;01mdef\u001b[39;00m \u001b[38;5;21mYoungModulus3DPlot\u001b[39m(material, \u001b[38;5;241m*\u001b[39margs, \u001b[38;5;241m*\u001b[39m\u001b[38;5;241m*\u001b[39mkwargs):\n\u001b[1;32m     76\u001b[0m     E \u001b[38;5;241m=\u001b[39m material\u001b[38;5;241m.\u001b[39mYoungModulus\n\u001b[0;32m---> 78\u001b[0m     \u001b[43mmayaviplot\u001b[49m\u001b[43m(\u001b[49m\u001b[43mE\u001b[49m\u001b[43m,\u001b[49m\u001b[43m \u001b[49m\u001b[38;5;241;43m*\u001b[39;49m\u001b[43margs\u001b[49m\u001b[43m,\u001b[49m\u001b[43m \u001b[49m\u001b[38;5;241;43m*\u001b[39;49m\u001b[38;5;241;43m*\u001b[39;49m\u001b[43mkwargs\u001b[49m\u001b[43m)\u001b[49m\n",
      "File \u001b[0;32m/workspaces/TCC/TCC_Docs_Container/elasticityproject/src/elasticityproject/plots3d.py:52\u001b[0m, in \u001b[0;36mmayaviplot\u001b[0;34m(property, smoothness, auto_extent, axes_extent, labels, offscreen, filename, *args, **kwargs)\u001b[0m\n\u001b[1;32m     49\u001b[0m \u001b[38;5;28;01mif\u001b[39;00m offscreen:\n\u001b[1;32m     50\u001b[0m     mlab\u001b[38;5;241m.\u001b[39moptions\u001b[38;5;241m.\u001b[39moffscreen \u001b[38;5;241m=\u001b[39m \u001b[38;5;28;01mTrue\u001b[39;00m\n\u001b[0;32m---> 52\u001b[0m \u001b[43mmlab\u001b[49m\u001b[38;5;241;43m.\u001b[39;49m\u001b[43mfigure\u001b[49m\u001b[43m(\u001b[49m\u001b[38;5;241;43m1\u001b[39;49m\u001b[43m,\u001b[49m\u001b[43m \u001b[49m\u001b[43mbgcolor\u001b[49m\u001b[38;5;241;43m=\u001b[39;49m\u001b[43m(\u001b[49m\u001b[38;5;241;43m1\u001b[39;49m\u001b[43m,\u001b[49m\u001b[43m \u001b[49m\u001b[38;5;241;43m1\u001b[39;49m\u001b[43m,\u001b[49m\u001b[43m \u001b[49m\u001b[38;5;241;43m1\u001b[39;49m\u001b[43m)\u001b[49m\u001b[43m,\u001b[49m\u001b[43m \u001b[49m\u001b[43mfgcolor\u001b[49m\u001b[38;5;241;43m=\u001b[39;49m\u001b[43m(\u001b[49m\u001b[38;5;241;43m0\u001b[39;49m\u001b[43m,\u001b[49m\u001b[43m \u001b[49m\u001b[38;5;241;43m0\u001b[39;49m\u001b[43m,\u001b[49m\u001b[43m \u001b[49m\u001b[38;5;241;43m0\u001b[39;49m\u001b[43m)\u001b[49m\u001b[43m,\u001b[49m\u001b[43m \u001b[49m\u001b[43msize\u001b[49m\u001b[38;5;241;43m=\u001b[39;49m\u001b[43m(\u001b[49m\u001b[38;5;241;43m500\u001b[39;49m\u001b[43m,\u001b[49m\u001b[43m \u001b[49m\u001b[38;5;241;43m500\u001b[39;49m\u001b[43m)\u001b[49m\u001b[43m)\u001b[49m\n\u001b[1;32m     53\u001b[0m mlab\u001b[38;5;241m.\u001b[39mclf()\n\u001b[1;32m     55\u001b[0m mlab\u001b[38;5;241m.\u001b[39mmesh(x, y, z, scalars\u001b[38;5;241m=\u001b[39mcase, colormap\u001b[38;5;241m=\u001b[39m\u001b[38;5;124m'\u001b[39m\u001b[38;5;124mplasma\u001b[39m\u001b[38;5;124m'\u001b[39m)\n",
      "File \u001b[0;32m/opt/conda/envs/elasticityproject/lib/python3.9/site-packages/mayavi/tools/figure.py:64\u001b[0m, in \u001b[0;36mfigure\u001b[0;34m(figure, bgcolor, fgcolor, engine, size)\u001b[0m\n\u001b[1;32m     62\u001b[0m \u001b[38;5;28;01melse\u001b[39;00m:\n\u001b[1;32m     63\u001b[0m     \u001b[38;5;28;01mif\u001b[39;00m engine \u001b[38;5;129;01mis\u001b[39;00m \u001b[38;5;28;01mNone\u001b[39;00m:\n\u001b[0;32m---> 64\u001b[0m         engine \u001b[38;5;241m=\u001b[39m \u001b[43mget_engine\u001b[49m\u001b[43m(\u001b[49m\u001b[43m)\u001b[49m\n\u001b[1;32m     65\u001b[0m     \u001b[38;5;28;01mif\u001b[39;00m figure \u001b[38;5;129;01mis\u001b[39;00m \u001b[38;5;28;01mNone\u001b[39;00m:\n\u001b[1;32m     66\u001b[0m         name \u001b[38;5;241m=\u001b[39m \u001b[38;5;28mmax\u001b[39m(__scene_number_list) \u001b[38;5;241m+\u001b[39m \u001b[38;5;241m1\u001b[39m\n",
      "File \u001b[0;32m/opt/conda/envs/elasticityproject/lib/python3.9/site-packages/mayavi/tools/engine_manager.py:94\u001b[0m, in \u001b[0;36mEngineManager.get_engine\u001b[0;34m(self)\u001b[0m\n\u001b[1;32m     91\u001b[0m     suitable \u001b[38;5;241m=\u001b[39m [e \u001b[38;5;28;01mfor\u001b[39;00m e \u001b[38;5;129;01min\u001b[39;00m engines\n\u001b[1;32m     92\u001b[0m                 \u001b[38;5;28;01mif\u001b[39;00m e\u001b[38;5;241m.\u001b[39m\u001b[38;5;18m__class__\u001b[39m\u001b[38;5;241m.\u001b[39m\u001b[38;5;18m__name__\u001b[39m \u001b[38;5;241m==\u001b[39m \u001b[38;5;124m'\u001b[39m\u001b[38;5;124mEngine\u001b[39m\u001b[38;5;124m'\u001b[39m]\n\u001b[1;32m     93\u001b[0m \u001b[38;5;28;01mif\u001b[39;00m \u001b[38;5;28mlen\u001b[39m(suitable) \u001b[38;5;241m==\u001b[39m \u001b[38;5;241m0\u001b[39m:\n\u001b[0;32m---> 94\u001b[0m     \u001b[38;5;28;01mreturn\u001b[39;00m \u001b[38;5;28;43mself\u001b[39;49m\u001b[38;5;241;43m.\u001b[39;49m\u001b[43mnew_engine\u001b[49m\u001b[43m(\u001b[49m\u001b[43m)\u001b[49m\n\u001b[1;32m     95\u001b[0m \u001b[38;5;28;01melse\u001b[39;00m:\n\u001b[1;32m     96\u001b[0m     \u001b[38;5;66;03m# Return the most engine add to the list most recently.\u001b[39;00m\n\u001b[1;32m     97\u001b[0m     \u001b[38;5;28mself\u001b[39m\u001b[38;5;241m.\u001b[39mcurrent_engine \u001b[38;5;241m=\u001b[39m suitable[\u001b[38;5;241m-\u001b[39m\u001b[38;5;241m1\u001b[39m]\n",
      "File \u001b[0;32m/opt/conda/envs/elasticityproject/lib/python3.9/site-packages/mayavi/tools/engine_manager.py:139\u001b[0m, in \u001b[0;36mEngineManager.new_engine\u001b[0;34m(self)\u001b[0m\n\u001b[1;32m    135\u001b[0m \u001b[38;5;28;01mdef\u001b[39;00m \u001b[38;5;21mnew_engine\u001b[39m(\u001b[38;5;28mself\u001b[39m):\n\u001b[1;32m    136\u001b[0m \u001b[38;5;250m    \u001b[39m\u001b[38;5;124;03m\"\"\" Creates a new engine, envisage or not depending on the\u001b[39;00m\n\u001b[1;32m    137\u001b[0m \u001b[38;5;124;03m        options.\u001b[39;00m\n\u001b[1;32m    138\u001b[0m \u001b[38;5;124;03m    \"\"\"\u001b[39;00m\n\u001b[0;32m--> 139\u001b[0m     \u001b[43mcheck_backend\u001b[49m\u001b[43m(\u001b[49m\u001b[43m)\u001b[49m\n\u001b[1;32m    140\u001b[0m     \u001b[38;5;28;01mif\u001b[39;00m options\u001b[38;5;241m.\u001b[39mbackend \u001b[38;5;241m==\u001b[39m \u001b[38;5;124m'\u001b[39m\u001b[38;5;124menvisage\u001b[39m\u001b[38;5;124m'\u001b[39m:\n\u001b[1;32m    141\u001b[0m         \u001b[38;5;28;01mfrom\u001b[39;00m \u001b[38;5;21;01mmayavi\u001b[39;00m\u001b[38;5;21;01m.\u001b[39;00m\u001b[38;5;21;01mplugins\u001b[39;00m\u001b[38;5;21;01m.\u001b[39;00m\u001b[38;5;21;01mapp\u001b[39;00m \u001b[38;5;28;01mimport\u001b[39;00m Mayavi\n",
      "File \u001b[0;32m/opt/conda/envs/elasticityproject/lib/python3.9/site-packages/mayavi/tools/engine_manager.py:42\u001b[0m, in \u001b[0;36mcheck_backend\u001b[0;34m()\u001b[0m\n\u001b[1;32m     37\u001b[0m \u001b[38;5;28;01mif\u001b[39;00m (options\u001b[38;5;241m.\u001b[39mbackend \u001b[38;5;241m!=\u001b[39m \u001b[38;5;124m'\u001b[39m\u001b[38;5;124mtest\u001b[39m\u001b[38;5;124m'\u001b[39m \u001b[38;5;129;01mand\u001b[39;00m \u001b[38;5;129;01mnot\u001b[39;00m options\u001b[38;5;241m.\u001b[39moffscreen) \u001b[38;5;129;01mand\u001b[39;00m \\\n\u001b[1;32m     38\u001b[0m    (ETSConfig\u001b[38;5;241m.\u001b[39mtoolkit \u001b[38;5;129;01min\u001b[39;00m (\u001b[38;5;124m'\u001b[39m\u001b[38;5;124mnull\u001b[39m\u001b[38;5;124m'\u001b[39m, \u001b[38;5;124m'\u001b[39m\u001b[38;5;124m'\u001b[39m) \u001b[38;5;129;01mand\u001b[39;00m env_toolkit \u001b[38;5;241m!=\u001b[39m \u001b[38;5;124m'\u001b[39m\u001b[38;5;124mnull\u001b[39m\u001b[38;5;124m'\u001b[39m):\n\u001b[1;32m     39\u001b[0m     msg \u001b[38;5;241m=\u001b[39m \u001b[38;5;124m'''\u001b[39m\u001b[38;5;124mCould not import backend for traitsui.  Make sure you\u001b[39m\n\u001b[1;32m     40\u001b[0m \u001b[38;5;124m    have a suitable UI toolkit like PyQt/PySide or wxPython\u001b[39m\n\u001b[1;32m     41\u001b[0m \u001b[38;5;124m    installed.\u001b[39m\u001b[38;5;124m'''\u001b[39m\n\u001b[0;32m---> 42\u001b[0m     \u001b[38;5;28;01mraise\u001b[39;00m \u001b[38;5;167;01mImportError\u001b[39;00m(msg)\n",
      "\u001b[0;31mImportError\u001b[0m: Could not import backend for traitsui.  Make sure you\n        have a suitable UI toolkit like PyQt/PySide or wxPython\n        installed."
     ]
    }
   ],
   "source": [
    "DirProp = DirectionalProperties('orthorhombic', 26.47, 29.77, 21.71, 74.54, 29.76, 70.52, 23.63, 21.40, 30.71)\n",
    "YoungModulus3DPlot(DirProp, smoothness=50)"
   ]
  },
  {
   "cell_type": "code",
   "execution_count": null,
   "metadata": {},
   "outputs": [],
   "source": []
  }
 ],
 "metadata": {
  "kernelspec": {
   "display_name": "Python 3 (ipykernel)",
   "language": "python",
   "name": "python3"
  },
  "language_info": {
   "codemirror_mode": {
    "name": "ipython",
    "version": 3
   },
   "file_extension": ".py",
   "mimetype": "text/x-python",
   "name": "python",
   "nbconvert_exporter": "python",
   "pygments_lexer": "ipython3",
   "version": "3.9.16"
  }
 },
 "nbformat": 4,
 "nbformat_minor": 4
}
