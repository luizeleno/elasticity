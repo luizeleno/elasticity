{
 "cells": [
  {
   "cell_type": "markdown",
   "metadata": {},
   "source": [
    "\n",
    "# Importing the package\n",
    "\n",
    "To use `elasticity` in a project, first you need to import the package and its desired features:"
   ]
  },
  {
   "cell_type": "code",
   "execution_count": 2,
   "metadata": {},
   "outputs": [],
   "source": [
    "from elasticity.elasticity import ElasticityTheory, DirectionalProperties,VRH\n",
    "from elasticity.plots3d import mayaviplot, YoungModulus3DPlot, LinearCompressibility3DPlot\n"
   ]
  },
  {
   "cell_type": "markdown",
   "metadata": {},
   "source": [
    "\n",
    "# Using the package\n",
    "\n",
    "To use the package, you have to, first, get the specific crystal class that the material you want to simulate have, then, you have to pass the independent elastic constants as inputs of the class\n",
    "\n",
    "The following crystal classes are implemented in the code:\n",
    "1. isotropic: 2 independent constants\n",
    "2. cubic: 3 independent constants\n",
    "3. hexagonal: 5 independent constants\n",
    "4. trigonal_1: 6 independent constants\n",
    "5. trigonal_2: 7 independent constants\n",
    "6. tetragonal_1: 6 independent constants\n",
    "7. tetragonal_2: 7 independent constants\n",
    "8. orthorhombic: 9 independent constants\n",
    "9. monoclinic_1: 13 independent constants\n",
    "10. monoclinic_2: 13 independent constants\n",
    "11. triclinic: 21 independent constants\n"
   ]
  },
  {
   "cell_type": "markdown",
   "metadata": {},
   "source": [
    "\n",
    "# Using the ElasticityTheory class\n",
    "\n",
    "To use this class, simply pass the `crystal_class` input and the individual `stiffness_constants`. Its important to note that you should ***pass each stiffness constant as a single argument, arrays are not valid***\n",
    "\n",
    "From this class you can get the following properties:\n",
    "1. C: (6x6) numpy array, stiffness matrix based on the given constants and material crystal class\n",
    "2. S: (6x6) numpy array | compliance matrix based on the given constants and material crystal class\n",
    "3. St: (3x3x3x3) numpy array | compliance tensor based on the given constants and material crystal class"
   ]
  },
  {
   "cell_type": "code",
   "execution_count": 3,
   "metadata": {},
   "outputs": [
    {
     "data": {
      "text/plain": [
       "array([[246.73 , 126.66 , 104.6  ,   0.   ,   0.   ,   0.   ],\n",
       "       [126.66 , 246.73 , 104.6  ,   0.   ,   0.   ,   0.   ],\n",
       "       [104.6  , 104.6  , 241.26 ,   0.   ,   0.   ,   0.   ],\n",
       "       [  0.   ,   0.   ,   0.   ,  58.48 ,   0.   ,   0.   ],\n",
       "       [  0.   ,   0.   ,   0.   ,   0.   ,  58.48 ,   0.   ],\n",
       "       [  0.   ,   0.   ,   0.   ,   0.   ,   0.   ,  60.035]])"
      ]
     },
     "execution_count": 3,
     "metadata": {},
     "output_type": "execute_result"
    }
   ],
   "source": [
    "ElasProp = ElasticityTheory('hexagonal', 246.73, 126.66, 104.6,241.26, 58.48 )\n",
    "ElasProp.C"
   ]
  },
  {
   "cell_type": "markdown",
   "metadata": {},
   "source": [
    "\n",
    "# Using the DirectionalProperties class\n",
    "\n",
    "To initiate an object of this class, simply pass the `crystal_class` input and the individual `stiffness_constants`. Its important to note that you should ***pass each stiffness constant as a single argument, arrays are not valid***. Another important information is that this class should be mostly used by the plots3d module since it is its data foundation. However, if you want to use it without the plotting module, you need to initiate a numpy array with a shape (NxN) for the *l* direction and (NxNxN) for the *n* direction."
   ]
  },
  {
   "cell_type": "code",
   "execution_count": 6,
   "metadata": {},
   "outputs": [
    {
     "data": {
      "text/plain": [
       "array([[[58.48      , 58.48      , 58.48      , ..., 58.48      ,\n",
       "         58.48      , 58.48      ],\n",
       "        [58.18121611, 58.18121611, 58.18121611, ..., 58.18121611,\n",
       "         58.18121611, 58.18121611],\n",
       "        [57.31835088, 57.31835088, 57.31835088, ..., 57.31835088,\n",
       "         57.31835088, 57.31835088],\n",
       "        ...,\n",
       "        [57.31835088, 57.31835088, 57.31835088, ..., 57.31835088,\n",
       "         57.31835088, 57.31835088],\n",
       "        [58.18121611, 58.18121611, 58.18121611, ..., 58.18121611,\n",
       "         58.18121611, 58.18121611],\n",
       "        [58.48      , 58.48      , 58.48      , ..., 58.48      ,\n",
       "         58.48      , 58.48      ]],\n",
       "\n",
       "       [[58.5389289 , 58.5389289 , 58.5389289 , ..., 58.5389289 ,\n",
       "         58.5389289 , 58.5389289 ],\n",
       "        [58.23930923, 58.23930923, 58.23930923, ..., 58.23930923,\n",
       "         58.23930923, 58.23930923],\n",
       "        [57.37405267, 57.37405267, 57.37405267, ..., 57.37405267,\n",
       "         57.37405267, 57.37405267],\n",
       "        ...,\n",
       "        [57.37405267, 57.37405267, 57.37405267, ..., 57.37405267,\n",
       "         57.37405267, 57.37405267],\n",
       "        [58.23930923, 58.23930923, 58.23930923, ..., 58.23930923,\n",
       "         58.23930923, 58.23930923],\n",
       "        [58.5389289 , 58.5389289 , 58.5389289 , ..., 58.5389289 ,\n",
       "         58.5389289 , 58.5389289 ]],\n",
       "\n",
       "       [[58.71619137, 58.71619137, 58.71619137, ..., 58.71619137,\n",
       "         58.71619137, 58.71619137],\n",
       "        [58.41405118, 58.41405118, 58.41405118, ..., 58.41405118,\n",
       "         58.41405118, 58.41405118],\n",
       "        [57.54158371, 57.54158371, 57.54158371, ..., 57.54158371,\n",
       "         57.54158371, 57.54158371],\n",
       "        ...,\n",
       "        [57.54158371, 57.54158371, 57.54158371, ..., 57.54158371,\n",
       "         57.54158371, 57.54158371],\n",
       "        [58.41405118, 58.41405118, 58.41405118, ..., 58.41405118,\n",
       "         58.41405118, 58.41405118],\n",
       "        [58.71619137, 58.71619137, 58.71619137, ..., 58.71619137,\n",
       "         58.71619137, 58.71619137]],\n",
       "\n",
       "       ...,\n",
       "\n",
       "       [[58.71619137, 58.71619137, 58.71619137, ..., 58.71619137,\n",
       "         58.71619137, 58.71619137],\n",
       "        [58.41405118, 58.41405118, 58.41405118, ..., 58.41405118,\n",
       "         58.41405118, 58.41405118],\n",
       "        [57.54158371, 57.54158371, 57.54158371, ..., 57.54158371,\n",
       "         57.54158371, 57.54158371],\n",
       "        ...,\n",
       "        [57.54158371, 57.54158371, 57.54158371, ..., 57.54158371,\n",
       "         57.54158371, 57.54158371],\n",
       "        [58.41405118, 58.41405118, 58.41405118, ..., 58.41405118,\n",
       "         58.41405118, 58.41405118],\n",
       "        [58.71619137, 58.71619137, 58.71619137, ..., 58.71619137,\n",
       "         58.71619137, 58.71619137]],\n",
       "\n",
       "       [[58.5389289 , 58.5389289 , 58.5389289 , ..., 58.5389289 ,\n",
       "         58.5389289 , 58.5389289 ],\n",
       "        [58.23930923, 58.23930923, 58.23930923, ..., 58.23930923,\n",
       "         58.23930923, 58.23930923],\n",
       "        [57.37405267, 57.37405267, 57.37405267, ..., 57.37405267,\n",
       "         57.37405267, 57.37405267],\n",
       "        ...,\n",
       "        [57.37405267, 57.37405267, 57.37405267, ..., 57.37405267,\n",
       "         57.37405267, 57.37405267],\n",
       "        [58.23930923, 58.23930923, 58.23930923, ..., 58.23930923,\n",
       "         58.23930923, 58.23930923],\n",
       "        [58.5389289 , 58.5389289 , 58.5389289 , ..., 58.5389289 ,\n",
       "         58.5389289 , 58.5389289 ]],\n",
       "\n",
       "       [[58.48      , 58.48      , 58.48      , ..., 58.48      ,\n",
       "         58.48      , 58.48      ],\n",
       "        [58.18121611, 58.18121611, 58.18121611, ..., 58.18121611,\n",
       "         58.18121611, 58.18121611],\n",
       "        [57.31835088, 57.31835088, 57.31835088, ..., 57.31835088,\n",
       "         57.31835088, 57.31835088],\n",
       "        ...,\n",
       "        [57.31835088, 57.31835088, 57.31835088, ..., 57.31835088,\n",
       "         57.31835088, 57.31835088],\n",
       "        [58.18121611, 58.18121611, 58.18121611, ..., 58.18121611,\n",
       "         58.18121611, 58.18121611],\n",
       "        [58.48      , 58.48      , 58.48      , ..., 58.48      ,\n",
       "         58.48      , 58.48      ]]])"
      ]
     },
     "execution_count": 6,
     "metadata": {},
     "output_type": "execute_result"
    }
   ],
   "source": [
    "import numpy as np\n",
    "#Initiate the class object\n",
    "DirProp = DirectionalProperties('hexagonal', 246.73, 126.66, 104.6,241.26, 58.48 )\n",
    "#Create the l direction array input\n",
    "theta, phi = np.mgrid[0:np.pi:100, 0:2*np.pi:100]\n",
    "ldir = np.array([np.sin(theta) * np.cos(phi), np.sin(theta) * np.sin(phi), np.cos(theta)])\n",
    "#Calculate the property\n",
    "DirProp.LinearCompressibility(ldir)\n",
    "#Create the n direction array input\n",
    "n_dir_theta, n_dir_phi, n_dir_psi = np.mgrid[0:np.pi:int(100) * 1j, 0:2*np.pi:int(100) * 1j, 0:2*np.pi:int(100) * 1j]\n",
    "ndir = np.array([\n",
    "                    np.sin(n_dir_phi) * np.sin(0)- np.cos(n_dir_theta)*np.cos(n_dir_phi)*np.cos(0),\n",
    "                    -np.cos(n_dir_phi)*np.sin(0) - np.cos(n_dir_phi)*np.sin(n_dir_phi)*np.cos(0),\n",
    "                    np.sin(n_dir_phi)*np.cos(0)\n",
    "                ])\n",
    "DirProp.ShearModulus(ldir,ndir)"
   ]
  },
  {
   "cell_type": "markdown",
   "metadata": {},
   "source": [
    "\n",
    "# Using the VRH class\n",
    "\n",
    "To use this class, simply pass the `crystal_class` input and the individual `stiffness_constants`. Its important to note that you should ***pass each stiffness constant as a single argument, arrays are not valid***\n",
    "\n",
    "From this class you can get the following properties:\n",
    "1. BR: Reuss approximation of linear compressibility\n",
    "2. GR: Reuss approximation of shear modulus\n",
    "3. BV: Voigt approximation of linear compressibility\n",
    "4. GV: Voigt approximation of shear modulus\n",
    "5. BH: Hill approximation of linear compressibility\n",
    "6. GH: Hill Reuss approximation of shear modulus\n",
    "7. BulkModulus: VRH approximation of Bulk Modulus using data from the three approximations\n",
    "8. YoungModulus: VRH approximation of Young Modulus using data from the three approximations\n",
    "9. PoissonRatio: VRH approximation of Poisson Ratio using data from the three approximations"
   ]
  },
  {
   "cell_type": "code",
   "execution_count": 18,
   "metadata": {},
   "outputs": [
    {
     "data": {
      "text/plain": [
       "155.8861543736143"
      ]
     },
     "execution_count": 18,
     "metadata": {},
     "output_type": "execute_result"
    }
   ],
   "source": [
    "VRHProp = VRH('hexagonal', 246.73, 126.66, 104.6,241.26, 58.48 )\n",
    "#Use Reuss approximations\n",
    "VRHProp.Reuss()\n",
    "#Use Voigt approximations\n",
    "VRHProp.Voigt()\n",
    "#Use Hill approximations\n",
    "VRHProp.Hill()\n",
    "#Use VRH approximations\n",
    "VRHProp.VRH()\n"
   ]
  },
  {
   "cell_type": "markdown",
   "metadata": {},
   "source": [
    "\n",
    "# Using plots3d module\n",
    "\n",
    "This module generates the surface plot based on the data generated by the DirectionalProperties class. To use the 3d plot module its necessary to initiate a instance of directional property class to generate the data to be plotted.\n",
    "To this module there are 2 required arguments\n",
    "1) property: object, a instance of the object created by the DirectionalProperties class\n",
    "2) smoothness: int, degree of smoothness of the generated surface\n",
    "\n",
    "There is also optional arguments to modify the action of the function:\n",
    "1) auto_extent: bool, flag to determine the axes extenxt will be generated automatically or via input\n",
    "2) axes_extent: int, extent of the axes, auto extent will override this parameter, default value is 4\n",
    "3) labels: array of str, labels of each axis, [0] element is x axis, [1] element is y axis, [2] element is z axis, default value is ['x (GPa)', 'y (GPa)', 'z (GPa)']\n",
    "4) offscreen: bool, flag to determine whether the graphics will be renderized in a GUI window or saved in a file\n",
    "5) filename: str, name of the generated file if offscren is true, default value is PlottedImage.png"
   ]
  },
  {
   "cell_type": "code",
   "execution_count": null,
   "metadata": {},
   "outputs": [
    {
     "name": "stdout",
     "output_type": "stream",
     "text": [
      "12.957405440792511 66.31218314637964\n"
     ]
    }
   ],
   "source": [
    "DirProp = DirectionalProperties('orthorhombic', 26.47, 29.77, 21.71, 74.54, 29.76, 70.52, 23.63, 21.40, 30.71)\n",
    "YoungModulus3DPlot(DirProp, smoothness=50)"
   ]
  },
  {
   "cell_type": "code",
   "execution_count": null,
   "metadata": {},
   "outputs": [],
   "source": []
  }
 ],
 "metadata": {
  "kernelspec": {
   "display_name": "Python 3 (ipykernel)",
   "language": "python",
   "name": "python3"
  },
  "language_info": {
   "codemirror_mode": {
    "name": "ipython",
    "version": 3
   },
   "file_extension": ".py",
   "mimetype": "text/x-python",
   "name": "python",
   "nbconvert_exporter": "python",
   "pygments_lexer": "ipython3",
   "version": "3.10.4"
  }
 },
 "nbformat": 4,
 "nbformat_minor": 4
}
