{
 "cells": [
  {
   "cell_type": "markdown",
   "metadata": {},
   "source": [
    "# Importing the package\n",
    "\n",
    "To use `elasticity` in a project, first you need to import the package and its desired features:"
   ]
  },
  {
   "cell_type": "code",
   "execution_count": 1,
   "metadata": {},
   "outputs": [],
   "source": [
    "from elasticity.elasticity import ElasticityTheory, DirectionalProperties,VRH\n"
   ]
  },
  {
   "cell_type": "markdown",
   "metadata": {},
   "source": [
    "# Using the package\n",
    "To use the package, you have to, first, get the specific crystal class that the material you want to simulate have, then, you have to pass the independent elastic constants as inputs of the class\n",
    "\n",
    "The following crystal classes are implemented in the code:\n",
    "    'isotropic' (2 independent constants) ,\n",
    "    'cubic' (3 independent constants),\n",
    "    'hexagonal' (5 independent constants),\n",
    "    'trigonal_1' (6 independent constants),\n",
    "    'trigonal_2' (7 independent constants),\n",
    "    'tetragonal_1' (6 independent constants),\n",
    "    'tetragonal_2' (7 independent constants),\n",
    "    'orthorhombic' (9 independent constants),\n",
    "    'monoclinic_1' (13 independent constants),\n",
    "    'monoclinic_2' (13 independent constants),\n",
    "    'triclinic' (21 independent constants)\n"
   ]
  },
  {
   "cell_type": "code",
   "execution_count": null,
   "metadata": {},
   "outputs": [],
   "source": []
  }
 ],
 "metadata": {
  "kernelspec": {
   "display_name": "Python 3 (ipykernel)",
   "language": "python",
   "name": "python3"
  },
  "language_info": {
   "codemirror_mode": {
    "name": "ipython",
    "version": 3
   },
   "file_extension": ".py",
   "mimetype": "text/x-python",
   "name": "python",
   "nbconvert_exporter": "python",
   "pygments_lexer": "ipython3",
   "version": "3.10.4"
  }
 },
 "nbformat": 4,
 "nbformat_minor": 4
}
